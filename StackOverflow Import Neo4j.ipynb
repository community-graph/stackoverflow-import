{
 "cells": [
  {
   "cell_type": "code",
   "execution_count": null,
   "metadata": {
    "collapsed": false
   },
   "outputs": [],
   "source": [
    "import os\n",
    "import time\n",
    "import requests\n",
    "from neo4j.v1 import GraphDatabase, basic_auth\n",
    "\n",
    "neo4jUrl = os.environ.get('NEO4J_URL',\"bolt://localhost\")\n",
    "neo4jUser = os.environ.get('NEO4J_USER',\"neo4j\")\n",
    "neo4jPass = os.environ.get('NEO4J_PASSWORD',\"test\")\n",
    "driver = GraphDatabase.driver(neo4jUrl, auth=basic_auth(neo4jUser, neo4jPass))\n",
    "\n",
    "session = driver.session()"
   ]
  },
  {
   "cell_type": "code",
   "execution_count": null,
   "metadata": {
    "collapsed": false
   },
   "outputs": [],
   "source": [
    "session.run( \"CREATE CONSTRAINT ON (q:Question) ASSERT q.id IS UNIQUE;\")\n",
    "session.run( \"CREATE CONSTRAINT ON (a:Answer) ASSERT a.id IS UNIQUE;\")\n",
    "session.run( \"CREATE INDEX ON :User(id);\")\n",
    "session.run( \"CREATE INDEX ON :Tag(name);\")\n",
    "session.run( \"CREATE INDEX ON :Link(url);\")"
   ]
  },
  {
   "cell_type": "code",
   "execution_count": null,
   "metadata": {
    "collapsed": true
   },
   "outputs": [],
   "source": [
    "result = session.run(\"MATCH (q:Question) RETURN max(q.created) as max_date\")\n",
    "\n",
    "maxDate = None\n",
    "for record in result:\n",
    "    if record[\"max_date\"] != None:\n",
    "        maxDate = record[\"max_date\"]"
   ]
  },
  {
   "cell_type": "code",
   "execution_count": null,
   "metadata": {
    "collapsed": true
   },
   "outputs": [],
   "source": [
    "# Build query.\n",
    "importQuery = \"\"\"\n",
    "WITH {json} as data\n",
    "UNWIND data.items as q\n",
    "MERGE (question:Question:Content:StackOverflow {id:q.question_id}) \n",
    "  ON CREATE SET question.title = q.title, question.url = q.share_link, question.created = q.creation_date\n",
    "SET question.favorites = q.favorite_count, question.updated = q.last_activity_date\n",
    "\n",
    "FOREACH (q_owner IN [o in [q.owner] WHERE o.user_id IS NOT NULL] |\n",
    "  MERGE (owner:User:StackOverflow {id:q.owner.user_id}) ON CREATE SET owner.name = q.owner.display_name\n",
    "  MERGE (owner)-[:POSTED]->(question)\n",
    ")\n",
    "\n",
    "FOREACH (tagName IN q.tags | MERGE (tag:Tag:StackOverflow {name:tagName}) MERGE (question)-[:TAGGED]->(tag))\n",
    "FOREACH (a IN q.answers |\n",
    "   MERGE (question)<-[:ANSWERED]-(answer:Answer:Content:StackOverflow {id:a.answer_id})\n",
    "   FOREACH (a_owner IN filter(o IN [a.owner] where o.user_id is not null) |\n",
    "     MERGE (answerer:User:StackOverflow {id:a_owner.user_id}) ON CREATE SET answerer.name = a_owner.display_name\n",
    "     MERGE (answer)<-[:POSTED]-(answerer)\n",
    "   )\n",
    ")\n",
    "\"\"\""
   ]
  },
  {
   "cell_type": "code",
   "execution_count": null,
   "metadata": {
    "collapsed": false
   },
   "outputs": [],
   "source": [
    "page=1\n",
    "items=100\n",
    "tag=\"Neo4j\"\n",
    "hasMore=True\n",
    "\n",
    "while hasMore == True:\n",
    "    # Build URL.\n",
    "    apiUrl = \"https://api.stackexchange.com/2.2/questions?page={page}&pagesize={items}&order=asc&sort=creation&tagged={tag}&site=stackoverflow&filter=!5-i6Zw8Y)4W7vpy91PMYsKM-k9yzEsSC1_Uxlf\".format(tag=tag,page=page,items=items)\n",
    "#    if maxDate <> None:\n",
    "#        apiUrl += \"&min={maxDate}\".format(maxDate=maxDate)\n",
    "    apiUrl\n",
    "    # Send GET request.\n",
    "    response = requests.get(apiUrl, headers = {\"accept\":\"application/json\"})\n",
    "    print(response.status_code)\n",
    "    if response.status_code != 200:\n",
    "        print(response.text)\n",
    "    json = response.json()\n",
    "    print(\"has_more\",json.get(\"has_more\",False),\"quota\",json.get(\"quota_remaining\",0))\n",
    "    if json.get(\"items\",None) != None:\n",
    "        print(len(json[\"items\"]))\n",
    "        result = session.run(importQuery,{\"json\":json})\n",
    "        print(result.consume().counters)\n",
    "        page = page + 1\n",
    "        \n",
    "    hasMore = json.get(\"has_more\",False)\n",
    "    print(\"hasMore: {more} page {page}\".format(page=page,more=hasMore))\n",
    "    if json.get('quota_remaining',0) <= 0:\n",
    "        time.sleep(10)\n",
    "    if json.get('backoff',None) != None:\n",
    "        print(\"backoff\",json['backoff'])\n",
    "        time.sleep(json['backoff']+5)"
   ]
  },
  {
   "cell_type": "code",
   "execution_count": null,
   "metadata": {
    "collapsed": true
   },
   "outputs": [],
   "source": [
    "session.close()"
   ]
  }
 ],
 "metadata": {
  "kernelspec": {
   "display_name": "Python 2",
   "language": "python",
   "name": "python2"
  },
  "language_info": {
   "codemirror_mode": {
    "name": "ipython",
    "version": 2
   },
   "file_extension": ".py",
   "mimetype": "text/x-python",
   "name": "python",
   "nbconvert_exporter": "python",
   "pygments_lexer": "ipython2",
   "version": "2.7.10"
  }
 },
 "nbformat": 4,
 "nbformat_minor": 2
}
